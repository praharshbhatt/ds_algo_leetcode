{
 "cells": [
  {
   "cell_type": "markdown",
   "metadata": {},
   "source": [
    "# Binary search tree (BST)\n",
    "\n",
    "### Definition\n",
    "\n",
    "A binary search tree (BST), also called an ordered or sorted binary tree, is a rooted binary tree data structure whose internal nodes each store a key greater than all the keys in the node’s left subtree and less than those in its right subtree.\n",
    "\n",
    "A binary tree is a type of data structure for storing data such as numbers in an organized way. Binary search trees allow binary search for fast lookup, addition and removal of data items, and can be used to implement dynamic sets and lookup tables.\n",
    "\n",
    "The order of nodes in a BST means that each comparison skips about half of the remaining tree, so the whole lookup takes time proportional to the binary logarithm of the number of items stored in the tree. This is much better than the linear time required to find items by key in an (unsorted) array, but slower than the corresponding operations on hash tables. Several variants of the binary search tree have been studied.\n",
    "\n",
    "![A binary search tree of size 9 and depth 3, with 8 at the root. The leaves are not drawn.](binary_search_tree.png)\n"
   ]
  },
  {
   "cell_type": "code",
   "execution_count": 21,
   "metadata": {},
   "outputs": [],
   "source": [
    "# A class to store a BST node\n",
    "class Node:\n",
    "    def __init__(self, data, left=None, right=None):\n",
    "        self.data = data\n",
    "        self.left = left\n",
    "        self.right = right\n",
    "\n",
    "\n",
    "# Function to perform inorder traversal on the BST\n",
    "def inorder(root):\n",
    "    if root is None:\n",
    "        return\n",
    "\n",
    "    inorder(root.left)\n",
    "    print(root.data, end=\" \")\n",
    "    inorder(root.right)\n"
   ]
  },
  {
   "cell_type": "markdown",
   "metadata": {},
   "source": [
    "## Operations and time complexity\n",
    "\n",
    "Binary search trees support three main operations:\n",
    "\n",
    "1. Searching: For searching, we have to traverse all elements (assuming we do breadth first traversal). Therefore, searching in binary tree has worst case complexity of O(n).\n",
    "2. Insertion: For inserting, we have to traverse all elements. Therefore, insertion in binary tree has worst case complexity of O(n).\n",
    "3. Deletion: For deletion, we have to traverse all elements to find 2 (assuming we do breadth first traversal). Therefore, deletion in binary tree has worst case complexity of O(n)\n",
    "\n",
    "\n",
    "The latter two possibly change the structural arrangement of the nodes in the tree, whereas the first one is a navigating and read-only operation. Other read-only operations are traversal, verification, etc."
   ]
  },
  {
   "cell_type": "markdown",
   "metadata": {},
   "source": [
    "## Insertion\n",
    "\n",
    "A new key is always inserted at the leaf. We start searching a key from the root until we hit a leaf node. Once a leaf node is found, the new node is added as a child of the leaf node. \n",
    "\n",
    "\n",
    "![A binary search tree insertion visualization.](binary_search_tree_insertion_animation.gif)\n"
   ]
  },
  {
   "cell_type": "code",
   "execution_count": 22,
   "metadata": {},
   "outputs": [
    {
     "name": "stdout",
     "output_type": "stream",
     "text": [
      "11 14 15 18 19 21 23 25 27 28 30 32 "
     ]
    }
   ],
   "source": [
    "# Recursive function to insert a key into a BST\n",
    "def insert(root, key):\n",
    " \n",
    "    # if the root is None, create a new node and return it\n",
    "    if root is None:\n",
    "        return Node(key)\n",
    " \n",
    "    # if the given key is less than the root node, recur for the left subtree\n",
    "    if key < root.data:\n",
    "        root.left = insert(root.left, key)\n",
    " \n",
    "    # if the given key is more than the root node, recur for the right subtree\n",
    "    else:\n",
    "        root.right = insert(root.right, key)\n",
    " \n",
    "    return root\n",
    "    \n",
    "\n",
    "keys = [21, 28, 14, 32, 25, 18, 11, 30, 19, 15, 23, 27]\n",
    "root = None\n",
    "for key in keys:\n",
    "    root = insert(root, key)\n",
    "    \n",
    "inorder(root)"
   ]
  },
  {
   "cell_type": "markdown",
   "metadata": {},
   "source": [
    "## Searching\n",
    "\n",
    "Searching in a binary search tree for a specific key can be programmed recursively or iteratively.\n",
    "\n",
    "We begin by examining the root node. If the tree is empty, the key we are searching for does not exist in the tree.\n",
    "Otherwise, if the key equals that of the root, the search is successful and we return the node.\n",
    "\n",
    "If the key is less than that of the root, we search the left subtree. Similarly, if the key is greater than that of the root, we search the right subtree.\n",
    "\n",
    "This process is repeated until the key is found or the remaining subtree is empty. If the searched key is not found after a empty subtree is reached, then the key is not present in the tree.\n",
    "\n",
    "\n",
    "![A binary search tree search visualization.](binary_search_tree_insertion_animation.gif)\n",
    "\n",
    "This algorithm searches from the tree’s root to the leaf farthest from the root in the worst-case. The search operation takes time proportional to the tree’s height. On average, binary search trees with n nodes have O(log(n)) height. However, in the worst case, binary search trees can have O(n) height (for skewed trees where all the nodes except the leaf have one and only one child) when the unbalanced tree resembles a linked list.\n",
    "\n",
    "The space used by the call stack is also proportional to the tree’s height. The algorithm can be implemented iteratively to avoid use of extra space.\n",
    "\n"
   ]
  },
  {
   "cell_type": "code",
   "execution_count": 23,
   "metadata": {},
   "outputs": [
    {
     "name": "stdout",
     "output_type": "stream",
     "text": [
      "The given key is the right node of the node with key 25\n"
     ]
    }
   ],
   "source": [
    "# Recursive function to search in a given BST (BFS)\n",
    "def search(root, key, parent):\n",
    " \n",
    "    # if the key is not present in the key\n",
    "    if root is None:\n",
    "        print('Key not found')\n",
    "        return\n",
    " \n",
    "    # if the key is found\n",
    "    if root.data == key:\n",
    " \n",
    "        if parent is None:\n",
    "            print(f'The node with key {key} is root node')\n",
    "        elif key < parent.data:\n",
    "            print('The given key is the left node of the node with key', parent.data)\n",
    "        else:\n",
    "            print('The given key is the right node of the node with key', parent.data)\n",
    " \n",
    "        return\n",
    " \n",
    "    # if the given key is less than the root node, recur for the left subtree;\n",
    "    # otherwise, recur for the right subtree\n",
    " \n",
    "    if key < root.data:\n",
    "        search(root.left, key, root)\n",
    "    else:\n",
    "        search(root.right, key, root)\n",
    " \n",
    " \n",
    "search(root, 27, None)\n",
    " \n"
   ]
  },
  {
   "cell_type": "code",
   "execution_count": 24,
   "metadata": {},
   "outputs": [
    {
     "name": "stdout",
     "output_type": "stream",
     "text": [
      "The given key is the right node of the node with key 25\n"
     ]
    }
   ],
   "source": [
    "# Iterative function to search in a given BST (DFS)\n",
    "def searchIterative(root, key):\n",
    " \n",
    "    # start with the root node\n",
    "    curr = root\n",
    " \n",
    "    # pointer to store the parent of the current node\n",
    "    parent = None\n",
    " \n",
    "    # traverse the tree and search for the key\n",
    "    while curr and curr.data != key:\n",
    " \n",
    "        # update the parent to the current node\n",
    "        parent = curr\n",
    " \n",
    "        # if the given key is less than the current node, go to the left subtree;\n",
    "        # otherwise, go to the right subtree\n",
    "        if key < curr.data:\n",
    "            curr = curr.left\n",
    "        else:\n",
    "            curr = curr.right\n",
    " \n",
    "    # if the key is not present in the key\n",
    "    if curr is None:\n",
    "        print('Key not found')\n",
    "        return\n",
    " \n",
    "    if parent is None:\n",
    "        print(f'The node with key {key} is root node')\n",
    "    elif key < parent.data:\n",
    "        print('The given key is the left node of the node with key', parent.data)\n",
    "    else:\n",
    "        print('The given key is the right node of the node with key', parent.data)\n",
    " \n",
    " \n",
    "searchIterative(root, 27)"
   ]
  },
  {
   "cell_type": "markdown",
   "metadata": {},
   "source": [
    "## Deletion\n",
    "\n",
    "Here are three possible cases to consider deleting a node from BST:\n",
    " \n",
    "Case 1: Deleting a node with no children: remove the node from the tree.\n",
    "\n",
    "![Deletion from BST – Case 1](binary_search_tree_deletion_case_1.png)\n",
    "\n",
    "\n",
    "Case 2: Deleting a node with two children: call the node to be deleted N. Do not delete N. Instead, choose either its inorder successor (The smallest number in the right subtree) node or its inorder predecessor node (The biggest number in the left subtree), R. Copy the value of R to N, then recursively call delete on R until reaching one of the first two cases. If we choose the inorder successor of a node (The smallest number in the right subtree), as the right subtree is not NULL (our present case is a node with 2 children), then its inorder successor is a node with the least value in its right subtree, which will have at a maximum of 1 subtree, so deleting it would fall in one of the first 2 cases.\n",
    "\n",
    "![Deletion from BST – Case 2](binary_search_tree_deletion_case_2.png)\n",
    "\n",
    "Case 3: Deleting a node with one child: remove the node and replace it with its child.\n",
    "\n",
    "![Deletion from BST – Case 3](binary_search_tree_deletion_case_3.png)\n",
    "\n",
    "Broadly speaking, nodes with children are harder to delete. As with all binary trees, a node’s inorder successor is its right subtree’s leftmost child, and a node’s inorder predecessor is the left subtree’s rightmost child. In either case, this node will have zero or one child. Delete it according to one of the two simpler cases above.\n",
    "\n"
   ]
  },
  {
   "cell_type": "code",
   "execution_count": 25,
   "metadata": {},
   "outputs": [
    {
     "name": "stdout",
     "output_type": "stream",
     "text": [
      "11 14 15 18 19 21 23 25 27 28 30 32 "
     ]
    }
   ],
   "source": [
    "# Helper function to find minimum value node in the subtree rooted at `curr`\n",
    "def getMinimumKey(curr):\n",
    "    while curr.left:\n",
    "        curr = curr.left\n",
    "    return curr\n",
    "\n",
    "\n",
    "# Function to delete a node from a BST\n",
    "def deleteNode(root, key):\n",
    "\n",
    "    # pointer to store the parent of the current node\n",
    "    parent = None\n",
    "\n",
    "    # start with the root node\n",
    "    curr = root\n",
    "\n",
    "    # search key in the BST and set its parent pointer\n",
    "    while curr and curr.data != key:\n",
    "\n",
    "        # update the parent to the current node\n",
    "        parent = curr\n",
    "\n",
    "        # if the given key is less than the current node, go to the left subtree;\n",
    "        # otherwise, go to the right subtree\n",
    "        if key < curr.data:\n",
    "            curr = curr.left\n",
    "        else:\n",
    "            curr = curr.right\n",
    "\n",
    "    # return if the key is not found in the tree\n",
    "    if curr is None:\n",
    "        return root\n",
    "\n",
    "    # Case 1: node to be deleted has no children, i.e., it is a leaf node\n",
    "    if curr.left is None and curr.right is None:\n",
    "\n",
    "        # if the node to be deleted is not a root node, then set its\n",
    "        # parent left/right child to None\n",
    "        if curr != root:\n",
    "            if parent.left == curr:\n",
    "                parent.left = None\n",
    "            else:\n",
    "                parent.right = None\n",
    "\n",
    "        # if the tree has only a root node, set it to None\n",
    "        else:\n",
    "            root = None\n",
    "\n",
    "    # Case 2: node to be deleted has two children\n",
    "    elif curr.left and curr.right:\n",
    "\n",
    "        # find its inorder successor node\n",
    "        successor = getMinimumKey(curr.right)\n",
    "\n",
    "        # store successor value\n",
    "        val = successor.data\n",
    "\n",
    "        # recursively delete the successor. Note that the successor\n",
    "        # will have at most one child (right child)\n",
    "        deleteNode(root, successor.data)\n",
    "\n",
    "        # copy value of the successor to the current node\n",
    "        curr.data = val\n",
    "\n",
    "    # Case 3: node to be deleted has only one child\n",
    "    else:\n",
    "\n",
    "        # choose a child node\n",
    "        if curr.left:\n",
    "            child = curr.left\n",
    "        else:\n",
    "            child = curr.right\n",
    "\n",
    "        # if the node to be deleted is not a root node, set its parent\n",
    "        # to its child\n",
    "        if curr != root:\n",
    "            if curr == parent.left:\n",
    "                parent.left = child\n",
    "            else:\n",
    "                parent.right = child\n",
    "\n",
    "        # if the node to be deleted is a root node, then set the root to the child\n",
    "        else:\n",
    "            root = child\n",
    "\n",
    "    return root\n",
    "\n",
    "\n",
    "root = deleteNode(root, 16)\n",
    "inorder(root)\n"
   ]
  }
 ],
 "metadata": {
  "interpreter": {
   "hash": "31f2aee4e71d21fbe5cf8b01ff0e069b9275f58929596ceb00d14d90e3e16cd6"
  },
  "kernelspec": {
   "display_name": "Python 3.10.1 64-bit",
   "language": "python",
   "name": "python3"
  },
  "language_info": {
   "codemirror_mode": {
    "name": "ipython",
    "version": 3
   },
   "file_extension": ".py",
   "mimetype": "text/x-python",
   "name": "python",
   "nbconvert_exporter": "python",
   "pygments_lexer": "ipython3",
   "version": "3.10.1"
  },
  "orig_nbformat": 4
 },
 "nbformat": 4,
 "nbformat_minor": 2
}
